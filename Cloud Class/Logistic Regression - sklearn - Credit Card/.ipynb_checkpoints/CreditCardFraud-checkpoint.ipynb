{
 "cells": [
  {
   "cell_type": "markdown",
   "metadata": {
    "collapsed": true
   },
   "source": [
    "信用卡欺诈\n",
    "关键词：分类，逻辑回归，交叉验证，混淆矩阵，下采样，过采样\n",
    "\n",
    "本章练习里，我们需要分析的数据是关于信用卡欺诈的一些数据，因为这些数据会是样本不均衡的，所以我们会采用下采样和过采样的方式进行分析。"
   ]
  },
  {
   "cell_type": "code",
   "execution_count": 1,
   "metadata": {
    "collapsed": true
   },
   "outputs": [],
   "source": [
    "import pandas as pd\n",
    "import matplotlib.pyplot as plt\n",
    "import numpy as np\n",
    "\n",
    "%matplotlib inline"
   ]
  },
  {
   "cell_type": "code",
   "execution_count": 2,
   "metadata": {},
   "outputs": [
    {
     "data": {
      "text/html": [
       "<div>\n",
       "<style scoped>\n",
       "    .dataframe tbody tr th:only-of-type {\n",
       "        vertical-align: middle;\n",
       "    }\n",
       "\n",
       "    .dataframe tbody tr th {\n",
       "        vertical-align: top;\n",
       "    }\n",
       "\n",
       "    .dataframe thead th {\n",
       "        text-align: right;\n",
       "    }\n",
       "</style>\n",
       "<table border=\"1\" class=\"dataframe\">\n",
       "  <thead>\n",
       "    <tr style=\"text-align: right;\">\n",
       "      <th></th>\n",
       "      <th>Time</th>\n",
       "      <th>V1</th>\n",
       "      <th>V2</th>\n",
       "      <th>V3</th>\n",
       "      <th>V4</th>\n",
       "      <th>V5</th>\n",
       "      <th>V6</th>\n",
       "      <th>V7</th>\n",
       "      <th>V8</th>\n",
       "      <th>V9</th>\n",
       "      <th>...</th>\n",
       "      <th>V21</th>\n",
       "      <th>V22</th>\n",
       "      <th>V23</th>\n",
       "      <th>V24</th>\n",
       "      <th>V25</th>\n",
       "      <th>V26</th>\n",
       "      <th>V27</th>\n",
       "      <th>V28</th>\n",
       "      <th>Amount</th>\n",
       "      <th>Class</th>\n",
       "    </tr>\n",
       "  </thead>\n",
       "  <tbody>\n",
       "    <tr>\n",
       "      <th>0</th>\n",
       "      <td>0.0</td>\n",
       "      <td>-1.359807</td>\n",
       "      <td>-0.072781</td>\n",
       "      <td>2.536347</td>\n",
       "      <td>1.378155</td>\n",
       "      <td>-0.338321</td>\n",
       "      <td>0.462388</td>\n",
       "      <td>0.239599</td>\n",
       "      <td>0.098698</td>\n",
       "      <td>0.363787</td>\n",
       "      <td>...</td>\n",
       "      <td>-0.018307</td>\n",
       "      <td>0.277838</td>\n",
       "      <td>-0.110474</td>\n",
       "      <td>0.066928</td>\n",
       "      <td>0.128539</td>\n",
       "      <td>-0.189115</td>\n",
       "      <td>0.133558</td>\n",
       "      <td>-0.021053</td>\n",
       "      <td>149.62</td>\n",
       "      <td>0</td>\n",
       "    </tr>\n",
       "    <tr>\n",
       "      <th>1</th>\n",
       "      <td>0.0</td>\n",
       "      <td>1.191857</td>\n",
       "      <td>0.266151</td>\n",
       "      <td>0.166480</td>\n",
       "      <td>0.448154</td>\n",
       "      <td>0.060018</td>\n",
       "      <td>-0.082361</td>\n",
       "      <td>-0.078803</td>\n",
       "      <td>0.085102</td>\n",
       "      <td>-0.255425</td>\n",
       "      <td>...</td>\n",
       "      <td>-0.225775</td>\n",
       "      <td>-0.638672</td>\n",
       "      <td>0.101288</td>\n",
       "      <td>-0.339846</td>\n",
       "      <td>0.167170</td>\n",
       "      <td>0.125895</td>\n",
       "      <td>-0.008983</td>\n",
       "      <td>0.014724</td>\n",
       "      <td>2.69</td>\n",
       "      <td>0</td>\n",
       "    </tr>\n",
       "    <tr>\n",
       "      <th>2</th>\n",
       "      <td>1.0</td>\n",
       "      <td>-1.358354</td>\n",
       "      <td>-1.340163</td>\n",
       "      <td>1.773209</td>\n",
       "      <td>0.379780</td>\n",
       "      <td>-0.503198</td>\n",
       "      <td>1.800499</td>\n",
       "      <td>0.791461</td>\n",
       "      <td>0.247676</td>\n",
       "      <td>-1.514654</td>\n",
       "      <td>...</td>\n",
       "      <td>0.247998</td>\n",
       "      <td>0.771679</td>\n",
       "      <td>0.909412</td>\n",
       "      <td>-0.689281</td>\n",
       "      <td>-0.327642</td>\n",
       "      <td>-0.139097</td>\n",
       "      <td>-0.055353</td>\n",
       "      <td>-0.059752</td>\n",
       "      <td>378.66</td>\n",
       "      <td>0</td>\n",
       "    </tr>\n",
       "    <tr>\n",
       "      <th>3</th>\n",
       "      <td>1.0</td>\n",
       "      <td>-0.966272</td>\n",
       "      <td>-0.185226</td>\n",
       "      <td>1.792993</td>\n",
       "      <td>-0.863291</td>\n",
       "      <td>-0.010309</td>\n",
       "      <td>1.247203</td>\n",
       "      <td>0.237609</td>\n",
       "      <td>0.377436</td>\n",
       "      <td>-1.387024</td>\n",
       "      <td>...</td>\n",
       "      <td>-0.108300</td>\n",
       "      <td>0.005274</td>\n",
       "      <td>-0.190321</td>\n",
       "      <td>-1.175575</td>\n",
       "      <td>0.647376</td>\n",
       "      <td>-0.221929</td>\n",
       "      <td>0.062723</td>\n",
       "      <td>0.061458</td>\n",
       "      <td>123.50</td>\n",
       "      <td>0</td>\n",
       "    </tr>\n",
       "    <tr>\n",
       "      <th>4</th>\n",
       "      <td>2.0</td>\n",
       "      <td>-1.158233</td>\n",
       "      <td>0.877737</td>\n",
       "      <td>1.548718</td>\n",
       "      <td>0.403034</td>\n",
       "      <td>-0.407193</td>\n",
       "      <td>0.095921</td>\n",
       "      <td>0.592941</td>\n",
       "      <td>-0.270533</td>\n",
       "      <td>0.817739</td>\n",
       "      <td>...</td>\n",
       "      <td>-0.009431</td>\n",
       "      <td>0.798278</td>\n",
       "      <td>-0.137458</td>\n",
       "      <td>0.141267</td>\n",
       "      <td>-0.206010</td>\n",
       "      <td>0.502292</td>\n",
       "      <td>0.219422</td>\n",
       "      <td>0.215153</td>\n",
       "      <td>69.99</td>\n",
       "      <td>0</td>\n",
       "    </tr>\n",
       "  </tbody>\n",
       "</table>\n",
       "<p>5 rows × 31 columns</p>\n",
       "</div>"
      ],
      "text/plain": [
       "   Time        V1        V2        V3        V4        V5        V6        V7  \\\n",
       "0   0.0 -1.359807 -0.072781  2.536347  1.378155 -0.338321  0.462388  0.239599   \n",
       "1   0.0  1.191857  0.266151  0.166480  0.448154  0.060018 -0.082361 -0.078803   \n",
       "2   1.0 -1.358354 -1.340163  1.773209  0.379780 -0.503198  1.800499  0.791461   \n",
       "3   1.0 -0.966272 -0.185226  1.792993 -0.863291 -0.010309  1.247203  0.237609   \n",
       "4   2.0 -1.158233  0.877737  1.548718  0.403034 -0.407193  0.095921  0.592941   \n",
       "\n",
       "         V8        V9  ...       V21       V22       V23       V24       V25  \\\n",
       "0  0.098698  0.363787  ... -0.018307  0.277838 -0.110474  0.066928  0.128539   \n",
       "1  0.085102 -0.255425  ... -0.225775 -0.638672  0.101288 -0.339846  0.167170   \n",
       "2  0.247676 -1.514654  ...  0.247998  0.771679  0.909412 -0.689281 -0.327642   \n",
       "3  0.377436 -1.387024  ... -0.108300  0.005274 -0.190321 -1.175575  0.647376   \n",
       "4 -0.270533  0.817739  ... -0.009431  0.798278 -0.137458  0.141267 -0.206010   \n",
       "\n",
       "        V26       V27       V28  Amount  Class  \n",
       "0 -0.189115  0.133558 -0.021053  149.62      0  \n",
       "1  0.125895 -0.008983  0.014724    2.69      0  \n",
       "2 -0.139097 -0.055353 -0.059752  378.66      0  \n",
       "3 -0.221929  0.062723  0.061458  123.50      0  \n",
       "4  0.502292  0.219422  0.215153   69.99      0  \n",
       "\n",
       "[5 rows x 31 columns]"
      ]
     },
     "execution_count": 2,
     "metadata": {},
     "output_type": "execute_result"
    }
   ],
   "source": [
    "# 首先我们查看数据，观察特征分布\n",
    "data = pd.read_csv(\"creditcard.csv\")\n",
    "data.head()"
   ]
  },
  {
   "cell_type": "markdown",
   "metadata": {
    "collapsed": true
   },
   "source": [
    "\n",
    "在数据里我们能注意到一些信息：\n",
    "1. 最后一列的Class是分类\n",
    "2. 第一列Time我们不需要关注\n",
    "3. 倒数第二列的Amount数值过大，相对于其他特征来说，我们需要对这一列特征进行均一化处理"
   ]
  },
  {
   "cell_type": "code",
   "execution_count": 3,
   "metadata": {},
   "outputs": [
    {
     "name": "stdout",
     "output_type": "stream",
     "text": [
      "0    284315\n",
      "1       492\n",
      "Name: Class, dtype: int64\n"
     ]
    },
    {
     "data": {
      "text/plain": [
       "Text(0, 0.5, 'Class Count')"
      ]
     },
     "execution_count": 3,
     "metadata": {},
     "output_type": "execute_result"
    },
    {
     "data": {
      "image/png": "[encoded data removed]",
      "text/plain": [
       "<Figure size 432x288 with 1 Axes>"
      ]
     },
     "metadata": {},
     "output_type": "display_data"
    }
   ],
   "source": [
    "# 既然是分类，让我们先结合图来分析看看数据的分布\n",
    "\n",
    "# value_counts计算选项个数，返回为series类型\n",
    "count_classes = pd.value_counts(data['Class'], sort = True).sort_index()\n",
    "print(count_classes)\n",
    "count_classes.plot(kind = 'bar')\n",
    "plt.title(\"Fraud Class Histogram\")\n",
    "plt.xlabel(\"Class\")\n",
    "plt.ylabel(\"Class Count\")"
   ]
  },
  {
   "cell_type": "markdown",
   "metadata": {
    "collapsed": true
   },
   "source": [
    "在上面的直方图里，我们看到正负样本的比例差异很大，样本比例不均衡，接下来我们先进行下采样来学习，然后再进行过采样\n",
    "我们先把Amount这一列均一化，通过StandardScaler().fit_transform可以把数值均一化成均值0方差1"
   ]
  },
  {
   "cell_type": "code",
   "execution_count": 4,
   "metadata": {},
   "outputs": [
    {
     "data": {
      "text/html": [
       "<div>\n",
       "<style scoped>\n",
       "    .dataframe tbody tr th:only-of-type {\n",
       "        vertical-align: middle;\n",
       "    }\n",
       "\n",
       "    .dataframe tbody tr th {\n",
       "        vertical-align: top;\n",
       "    }\n",
       "\n",
       "    .dataframe thead th {\n",
       "        text-align: right;\n",
       "    }\n",
       "</style>\n",
       "<table border=\"1\" class=\"dataframe\">\n",
       "  <thead>\n",
       "    <tr style=\"text-align: right;\">\n",
       "      <th></th>\n",
       "      <th>V1</th>\n",
       "      <th>V2</th>\n",
       "      <th>V3</th>\n",
       "      <th>V4</th>\n",
       "      <th>V5</th>\n",
       "      <th>V6</th>\n",
       "      <th>V7</th>\n",
       "      <th>V8</th>\n",
       "      <th>V9</th>\n",
       "      <th>V10</th>\n",
       "      <th>...</th>\n",
       "      <th>V21</th>\n",
       "      <th>V22</th>\n",
       "      <th>V23</th>\n",
       "      <th>V24</th>\n",
       "      <th>V25</th>\n",
       "      <th>V26</th>\n",
       "      <th>V27</th>\n",
       "      <th>V28</th>\n",
       "      <th>Class</th>\n",
       "      <th>normAmount</th>\n",
       "    </tr>\n",
       "  </thead>\n",
       "  <tbody>\n",
       "    <tr>\n",
       "      <th>0</th>\n",
       "      <td>-1.359807</td>\n",
       "      <td>-0.072781</td>\n",
       "      <td>2.536347</td>\n",
       "      <td>1.378155</td>\n",
       "      <td>-0.338321</td>\n",
       "      <td>0.462388</td>\n",
       "      <td>0.239599</td>\n",
       "      <td>0.098698</td>\n",
       "      <td>0.363787</td>\n",
       "      <td>0.090794</td>\n",
       "      <td>...</td>\n",
       "      <td>-0.018307</td>\n",
       "      <td>0.277838</td>\n",
       "      <td>-0.110474</td>\n",
       "      <td>0.066928</td>\n",
       "      <td>0.128539</td>\n",
       "      <td>-0.189115</td>\n",
       "      <td>0.133558</td>\n",
       "      <td>-0.021053</td>\n",
       "      <td>0</td>\n",
       "      <td>0.244964</td>\n",
       "    </tr>\n",
       "    <tr>\n",
       "      <th>1</th>\n",
       "      <td>1.191857</td>\n",
       "      <td>0.266151</td>\n",
       "      <td>0.166480</td>\n",
       "      <td>0.448154</td>\n",
       "      <td>0.060018</td>\n",
       "      <td>-0.082361</td>\n",
       "      <td>-0.078803</td>\n",
       "      <td>0.085102</td>\n",
       "      <td>-0.255425</td>\n",
       "      <td>-0.166974</td>\n",
       "      <td>...</td>\n",
       "      <td>-0.225775</td>\n",
       "      <td>-0.638672</td>\n",
       "      <td>0.101288</td>\n",
       "      <td>-0.339846</td>\n",
       "      <td>0.167170</td>\n",
       "      <td>0.125895</td>\n",
       "      <td>-0.008983</td>\n",
       "      <td>0.014724</td>\n",
       "      <td>0</td>\n",
       "      <td>-0.342475</td>\n",
       "    </tr>\n",
       "    <tr>\n",
       "      <th>2</th>\n",
       "      <td>-1.358354</td>\n",
       "      <td>-1.340163</td>\n",
       "      <td>1.773209</td>\n",
       "      <td>0.379780</td>\n",
       "      <td>-0.503198</td>\n",
       "      <td>1.800499</td>\n",
       "      <td>0.791461</td>\n",
       "      <td>0.247676</td>\n",
       "      <td>-1.514654</td>\n",
       "      <td>0.207643</td>\n",
       "      <td>...</td>\n",
       "      <td>0.247998</td>\n",
       "      <td>0.771679</td>\n",
       "      <td>0.909412</td>\n",
       "      <td>-0.689281</td>\n",
       "      <td>-0.327642</td>\n",
       "      <td>-0.139097</td>\n",
       "      <td>-0.055353</td>\n",
       "      <td>-0.059752</td>\n",
       "      <td>0</td>\n",
       "      <td>1.160686</td>\n",
       "    </tr>\n",
       "    <tr>\n",
       "      <th>3</th>\n",
       "      <td>-0.966272</td>\n",
       "      <td>-0.185226</td>\n",
       "      <td>1.792993</td>\n",
       "      <td>-0.863291</td>\n",
       "      <td>-0.010309</td>\n",
       "      <td>1.247203</td>\n",
       "      <td>0.237609</td>\n",
       "      <td>0.377436</td>\n",
       "      <td>-1.387024</td>\n",
       "      <td>-0.054952</td>\n",
       "      <td>...</td>\n",
       "      <td>-0.108300</td>\n",
       "      <td>0.005274</td>\n",
       "      <td>-0.190321</td>\n",
       "      <td>-1.175575</td>\n",
       "      <td>0.647376</td>\n",
       "      <td>-0.221929</td>\n",
       "      <td>0.062723</td>\n",
       "      <td>0.061458</td>\n",
       "      <td>0</td>\n",
       "      <td>0.140534</td>\n",
       "    </tr>\n",
       "    <tr>\n",
       "      <th>4</th>\n",
       "      <td>-1.158233</td>\n",
       "      <td>0.877737</td>\n",
       "      <td>1.548718</td>\n",
       "      <td>0.403034</td>\n",
       "      <td>-0.407193</td>\n",
       "      <td>0.095921</td>\n",
       "      <td>0.592941</td>\n",
       "      <td>-0.270533</td>\n",
       "      <td>0.817739</td>\n",
       "      <td>0.753074</td>\n",
       "      <td>...</td>\n",
       "      <td>-0.009431</td>\n",
       "      <td>0.798278</td>\n",
       "      <td>-0.137458</td>\n",
       "      <td>0.141267</td>\n",
       "      <td>-0.206010</td>\n",
       "      <td>0.502292</td>\n",
       "      <td>0.219422</td>\n",
       "      <td>0.215153</td>\n",
       "      <td>0</td>\n",
       "      <td>-0.073403</td>\n",
       "    </tr>\n",
       "  </tbody>\n",
       "</table>\n",
       "<p>5 rows × 30 columns</p>\n",
       "</div>"
      ],
      "text/plain": [
       "         V1        V2        V3        V4        V5        V6        V7  \\\n",
       "0 -1.359807 -0.072781  2.536347  1.378155 -0.338321  0.462388  0.239599   \n",
       "1  1.191857  0.266151  0.166480  0.448154  0.060018 -0.082361 -0.078803   \n",
       "2 -1.358354 -1.340163  1.773209  0.379780 -0.503198  1.800499  0.791461   \n",
       "3 -0.966272 -0.185226  1.792993 -0.863291 -0.010309  1.247203  0.237609   \n",
       "4 -1.158233  0.877737  1.548718  0.403034 -0.407193  0.095921  0.592941   \n",
       "\n",
       "         V8        V9       V10  ...       V21       V22       V23       V24  \\\n",
       "0  0.098698  0.363787  0.090794  ... -0.018307  0.277838 -0.110474  0.066928   \n",
       "1  0.085102 -0.255425 -0.166974  ... -0.225775 -0.638672  0.101288 -0.339846   \n",
       "2  0.247676 -1.514654  0.207643  ...  0.247998  0.771679  0.909412 -0.689281   \n",
       "3  0.377436 -1.387024 -0.054952  ... -0.108300  0.005274 -0.190321 -1.175575   \n",
       "4 -0.270533  0.817739  0.753074  ... -0.009431  0.798278 -0.137458  0.141267   \n",
       "\n",
       "        V25       V26       V27       V28  Class  normAmount  \n",
       "0  0.128539 -0.189115  0.133558 -0.021053      0    0.244964  \n",
       "1  0.167170  0.125895 -0.008983  0.014724      0   -0.342475  \n",
       "2 -0.327642 -0.139097 -0.055353 -0.059752      0    1.160686  \n",
       "3  0.647376 -0.221929  0.062723  0.061458      0    0.140534  \n",
       "4 -0.206010  0.502292  0.219422  0.215153      0   -0.073403  \n",
       "\n",
       "[5 rows x 30 columns]"
      ]
     },
     "execution_count": 4,
     "metadata": {},
     "output_type": "execute_result"
    }
   ],
   "source": [
    "from sklearn.preprocessing import StandardScaler\n",
    "\n",
    "# reshape(-1,col) 这里的-1表示很智能计算row = ori_row*ori_col/col\n",
    "# 如果是reshape(row,-1)则表示智能计算col\n",
    "data['normAmount'] = StandardScaler().fit_transform(data['Amount'].values.reshape(-1, 1))\n",
    "\n",
    "# 删除无用的Time和Amount\n",
    "data = data.drop(['Time', 'Amount'], axis=1)\n",
    "data.head()"
   ]
  },
  {
   "cell_type": "code",
   "execution_count": 5,
   "metadata": {},
   "outputs": [
    {
     "name": "stdout",
     "output_type": "stream",
     "text": [
      "Percentage of normal:  0.5\n",
      "Percentage of fraud:  0.5\n",
      "Undersample Count:  984\n"
     ]
    }
   ],
   "source": [
    "# 把Class单独取出成y，非Class的则为特征X\n",
    "X = data.loc[:, data.columns != 'Class']\n",
    "y = data.loc[:, data.columns == 'Class']\n",
    "\n",
    "# 进行下采样：从分类大的样本中，取出分类小的样本数量的样本\n",
    "\n",
    "# 统计欺诈的数量，以及欺诈所在的行数\n",
    "count_fraud = len(data[data.Class == 1])\n",
    "indices_fraud = np.array(data[data.Class == 1].index)\n",
    "\n",
    "# 正常交易的行数\n",
    "indices_normal = np.array(data[data.Class == 0].index)\n",
    "\n",
    "# random.choice表示从indices_normal这些数字里，选出count_fraud个随机数，replace=False表示不重复选择\n",
    "random_normal_indices = np.random.choice(indices_normal, count_fraud, replace = False)\n",
    "\n",
    "# 混合下采样样本集\n",
    "undersample_indices = np.concatenate([indices_fraud, random_normal_indices])\n",
    "undersample_data = data.iloc[undersample_indices, :]\n",
    "\n",
    "X_undersample = undersample_data.loc[:, undersample_data.columns != 'Class']\n",
    "y_undersample = undersample_data.loc[:, undersample_data.columns == 'Class']\n",
    "\n",
    "print(\"Percentage of normal: \", len(undersample_data[undersample_data.Class == 0]) / len(undersample_data))\n",
    "print(\"Percentage of fraud: \", len(undersample_data[undersample_data.Class == 1]) / len(undersample_data))\n",
    "print(\"Undersample Count: \", len(undersample_data))"
   ]
  },
  {
   "cell_type": "code",
   "execution_count": 6,
   "metadata": {},
   "outputs": [
    {
     "name": "stdout",
     "output_type": "stream",
     "text": [
      "TrainSet Count:  199364\n",
      "TestSet Count:  85443\n",
      "Whole DataSet Count:  284807\n",
      "undersample TrainSet Count:  688\n",
      "undersample TestSet Count:  296\n",
      "undersample Count:  984\n"
     ]
    }
   ],
   "source": [
    "# 使用sklearn的交叉验证工具\n",
    "from sklearn.model_selection import train_test_split\n",
    "\n",
    "# test_size代表测试集比例，这里0.3表示30%测试集，70%训练集\n",
    "X_train, X_test, y_train, y_test = train_test_split(X, y, test_size = 0.3, random_state = 0)\n",
    "print(\"TrainSet Count: \", len(X_train))\n",
    "print(\"TestSet Count: \", len(X_test))\n",
    "print(\"Whole DataSet Count: \", len(X))\n",
    "\n",
    "X_train_undersample, X_test_undersample, y_train_undersample, y_test_undersample = train_test_split(X_undersample, y_undersample, test_size = 0.3, random_state = 0)\n",
    "print(\"undersample TrainSet Count: \", len(X_train_undersample))\n",
    "print(\"undersample TestSet Count: \", len(X_test_undersample))\n",
    "print(\"undersample Count: \", len(X_undersample))"
   ]
  },
  {
   "cell_type": "code",
   "execution_count": 7,
   "metadata": {
    "collapsed": true
   },
   "outputs": [],
   "source": [
    "# 计算recall率：Recall = TP/(TP+FN) 预测正确的正样本占所有真的正样本的比例\n",
    "\n",
    "from sklearn.linear_model import LogisticRegression\n",
    "from sklearn.model_selection import KFold, cross_val_score\n",
    "from sklearn.metrics import confusion_matrix, recall_score, classification_report\n"
   ]
  },
  {
   "cell_type": "code",
   "execution_count": 8,
   "metadata": {
    "collapsed": true
   },
   "outputs": [],
   "source": [
    "def Kfold_scores(x_train_data, y_train_data):\n",
    "    # 分成5份，shuffle=False表示不进行每次都打乱\n",
    "    # fold分成2个list：train_indices = indices[0], test_indices = indices[1]\n",
    "    fold = KFold(5, shuffle = False)\n",
    "    \n",
    "    # 逻辑回归\n",
    "    # 设定惩罚参数\n",
    "    c_set = [0.01, 0.1, 1, 10, 100]\n",
    "    \n",
    "    res = pd.DataFrame(index = range(len(c_set), 2), columns = ['c', 'mean recall'])\n",
    "    res['c'] = c_set\n",
    "    \n",
    "    j = 0\n",
    "    for c in c_set:\n",
    "        print(\"round c: \", c)\n",
    "        print('')\n",
    "        \n",
    "        recall_scores = []\n",
    "        for iteration, indices in enumerate(fold.split(x_train_data), start = 1):\n",
    "            \n",
    "            # 设定逻辑回归函数参数 C为正则化系数λ的倒数，默认为1 penalty可选L1和L2，默认是L2\n",
    "            lr = LogisticRegression(C = c, penalty = 'l1', solver='liblinear')\n",
    "            \n",
    "            # lr.fit() 计算θ，而values是取值，否则会带有index。ravel是变成1维。原来都是[[1],[0]]现在变成[1,0]\n",
    "            lr.fit(x_train_data.iloc[indices[0], :], y_train_data.iloc[indices[0], :].values.ravel())\n",
    "            \n",
    "            # 预测测试集\n",
    "            y_pred_undersample = lr.predict(x_train_data.iloc[indices[1], :].values)\n",
    "            \n",
    "            # 用测试集中真实的Class对比，计算recall\n",
    "            recall = recall_score(y_train_data.iloc[indices[1], :].values, y_pred_undersample)\n",
    "            recall_scores.append(recall)\n",
    "            print('Round: ', iteration, ', recall = ', recall)\n",
    "        \n",
    "        res.loc[j, 'mean recall'] = np.mean(recall_scores)\n",
    "        print('mean recall: ', np.mean(recall_scores))\n",
    "        j += 1\n",
    "        \n",
    "    best_c = res.loc[res['mean recall'].values.argmax()]['c']\n",
    "    print('')\n",
    "    print('Best c: ', best_c)\n",
    "    return best_c"
   ]
  },
  {
   "cell_type": "code",
   "execution_count": 9,
   "metadata": {},
   "outputs": [
    {
     "name": "stdout",
     "output_type": "stream",
     "text": [
      "Empty DataFrame\n",
      "Columns: [d, mean recall]\n",
      "Index: []\n",
      "\n",
      "        d mean recall\n",
      "0    0.01         NaN\n",
      "1    0.10         NaN\n",
      "2    1.00         NaN\n",
      "3   10.00         NaN\n",
      "4  100.00         NaN\n"
     ]
    }
   ],
   "source": [
    "# 举例子\n",
    "d_set = [0.01, 0.1, 1, 10, 100]\n",
    "res1 = pd.DataFrame(index = range(len(d_set), 2), columns = ['d', 'mean recall'])\n",
    "print(res1)\n",
    "res1['d'] = d_set\n",
    "print(\"\")\n",
    "print(res1)"
   ]
  },
  {
   "cell_type": "code",
   "execution_count": 10,
   "metadata": {},
   "outputs": [
    {
     "name": "stdout",
     "output_type": "stream",
     "text": [
      "round c:  0.01\n",
      "\n",
      "Round:  1 , recall =  0.9315068493150684\n",
      "Round:  2 , recall =  0.9178082191780822\n",
      "Round:  3 , recall =  1.0\n",
      "Round:  4 , recall =  0.9594594594594594\n",
      "Round:  5 , recall =  0.9696969696969697\n",
      "mean recall:  0.955694299529916\n",
      "round c:  0.1\n",
      "\n",
      "Round:  1 , recall =  0.8493150684931506\n",
      "Round:  2 , recall =  0.863013698630137\n",
      "Round:  3 , recall =  0.9152542372881356\n",
      "Round:  4 , recall =  0.9324324324324325\n",
      "Round:  5 , recall =  0.8939393939393939\n",
      "mean recall:  0.89079096615665\n",
      "round c:  1\n",
      "\n",
      "Round:  1 , recall =  0.863013698630137\n",
      "Round:  2 , recall =  0.8767123287671232\n",
      "Round:  3 , recall =  0.9830508474576272\n",
      "Round:  4 , recall =  0.9459459459459459\n",
      "Round:  5 , recall =  0.9242424242424242\n",
      "mean recall:  0.9185930490086515\n",
      "round c:  10\n",
      "\n",
      "Round:  1 , recall =  0.8767123287671232\n",
      "Round:  2 , recall =  0.8904109589041096\n",
      "Round:  3 , recall =  0.9830508474576272\n",
      "Round:  4 , recall =  0.9459459459459459\n",
      "Round:  5 , recall =  0.9242424242424242\n",
      "mean recall:  0.924072501063446\n",
      "round c:  100\n",
      "\n",
      "Round:  1 , recall =  0.8767123287671232\n",
      "Round:  2 , recall =  0.8904109589041096\n",
      "Round:  3 , recall =  0.9830508474576272\n",
      "Round:  4 , recall =  0.9459459459459459\n",
      "Round:  5 , recall =  0.9242424242424242\n",
      "mean recall:  0.924072501063446\n",
      "\n",
      "Best c:  0.01\n"
     ]
    }
   ],
   "source": [
    "best_c = Kfold_scores(X_train_undersample, y_train_undersample)"
   ]
  },
  {
   "cell_type": "code",
   "execution_count": 11,
   "metadata": {
    "collapsed": true
   },
   "outputs": [],
   "source": [
    "# 绘制混淆矩阵\n",
    "def plot_confusion_mat(cm, classes, title='Confusion Matrix', cmap=plt.cm.Blues):\n",
    "    # imshow是热力图\n",
    "    # 关于interpolation查阅：https://matplotlib.org/gallery/images_contours_and_fields/interpolation_methods.html?highlight=interpolation\n",
    "    plt.imshow(cm, interpolation='nearest', cmap=cmap)\n",
    "    plt.title(title)\n",
    "    plt.colorbar()\n",
    "    tick_marks = np.arange(len(classes))\n",
    "    plt.xticks(tick_marks, classes, rotation=0)\n",
    "    plt.yticks(tick_marks, classes)\n",
    "    \n",
    "    thresh = cm.max() / 2\n",
    "    for i, j in itertools.product(range(cm.shape[0]), range(cm.shape[1])):\n",
    "        plt.text(j, i, cm[i, j], horizontalalignment='center', color='white' if cm[i, j] > thresh else 'black')\n",
    "    plt.tight_layout()\n",
    "    plt.xlabel('Predicted Label')\n",
    "    plt.ylabel('True Label')\n",
    "    "
   ]
  },
  {
   "cell_type": "code",
   "execution_count": 12,
   "metadata": {},
   "outputs": [
    {
     "name": "stdout",
     "output_type": "stream",
     "text": [
      "recall metric in undersample test dataset:  0.9319727891156463\n"
     ]
    },
    {
     "data": {
      "image/png": "[encoded data removed]",
      "text/plain": [
       "<Figure size 432x288 with 2 Axes>"
      ]
     },
     "metadata": {},
     "output_type": "display_data"
    }
   ],
   "source": [
    "import itertools\n",
    "\n",
    "# 下采样的样本应用逻辑回归\n",
    "lr = LogisticRegression(C = best_c, penalty = 'l1', solver='liblinear')\n",
    "lr.fit(X_train_undersample, y_train_undersample.values.ravel())\n",
    "\n",
    "# 使用下采样样本中的30%测试集预测\n",
    "y_pred_undersample = lr.predict(X_test_undersample.values)\n",
    "\n",
    "# 计算混淆矩阵\n",
    "cnf_mat = confusion_matrix(y_test_undersample, y_pred_undersample)\n",
    "np.set_printoptions(precision = 2)\n",
    "\n",
    "print('recall metric in undersample test dataset: ', cnf_mat[1,1] / (cnf_mat[1,0] + cnf_mat[1,1]))\n",
    "\n",
    "class_names = [0, 1]\n",
    "plt.figure()\n",
    "plot_confusion_mat(cnf_mat, classes=class_names, title='Confusion Matrix')\n",
    "plt.show()\n",
    "\n",
    "# 下采样训练，下采样预测"
   ]
  },
  {
   "cell_type": "code",
   "execution_count": 13,
   "metadata": {},
   "outputs": [
    {
     "name": "stdout",
     "output_type": "stream",
     "text": [
      "recall metric in ALL test dataset:  0.9183673469387755\n"
     ]
    },
    {
     "data": {
      "image/png": "[encoded data removed]",
      "text/plain": [
       "<Figure size 432x288 with 2 Axes>"
      ]
     },
     "metadata": {},
     "output_type": "display_data"
    }
   ],
   "source": [
    "# 下采样的样本应用逻辑回归\n",
    "lr = LogisticRegression(C = best_c, penalty = 'l1', solver='liblinear')\n",
    "lr.fit(X_train_undersample, y_train_undersample.values.ravel())\n",
    "\n",
    "# 使用全样本中的30%测试集预测\n",
    "y_pred = lr.predict(X_test.values)\n",
    "\n",
    "# 计算混淆矩阵\n",
    "cnf_mat = confusion_matrix(y_test, y_pred)\n",
    "np.set_printoptions(precision = 2)\n",
    "\n",
    "print('recall metric in ALL test dataset: ', cnf_mat[1,1] / (cnf_mat[1,0] + cnf_mat[1,1]))\n",
    "\n",
    "class_names = [0, 1]\n",
    "plt.figure()\n",
    "plot_confusion_mat(cnf_mat, classes=class_names, title='Confusion Matrix')\n",
    "plt.show()\n",
    "\n",
    "# 下采样训练，全样本预测"
   ]
  },
  {
   "cell_type": "code",
   "execution_count": 14,
   "metadata": {
    "scrolled": true
   },
   "outputs": [
    {
     "name": "stdout",
     "output_type": "stream",
     "text": [
      "round c:  0.01\n",
      "\n",
      "Round:  1 , recall =  0.4925373134328358\n",
      "Round:  2 , recall =  0.6027397260273972\n",
      "Round:  3 , recall =  0.6833333333333333\n",
      "Round:  4 , recall =  0.5692307692307692\n",
      "Round:  5 , recall =  0.45\n",
      "mean recall:  0.5595682284048672\n",
      "round c:  0.1\n",
      "\n",
      "Round:  1 , recall =  0.5671641791044776\n",
      "Round:  2 , recall =  0.6164383561643836\n",
      "Round:  3 , recall =  0.6833333333333333\n",
      "Round:  4 , recall =  0.5846153846153846\n",
      "Round:  5 , recall =  0.525\n",
      "mean recall:  0.5953102506435158\n",
      "round c:  1\n",
      "\n",
      "Round:  1 , recall =  0.5522388059701493\n",
      "Round:  2 , recall =  0.6164383561643836\n",
      "Round:  3 , recall =  0.7166666666666667\n",
      "Round:  4 , recall =  0.6153846153846154\n",
      "Round:  5 , recall =  0.5625\n",
      "mean recall:  0.612645688837163\n",
      "round c:  10\n",
      "\n",
      "Round:  1 , recall =  0.5522388059701493\n",
      "Round:  2 , recall =  0.6164383561643836\n",
      "Round:  3 , recall =  0.7333333333333333\n",
      "Round:  4 , recall =  0.6153846153846154\n",
      "Round:  5 , recall =  0.575\n",
      "mean recall:  0.6184790221704963\n",
      "round c:  100\n",
      "\n",
      "Round:  1 , recall =  0.5522388059701493\n",
      "Round:  2 , recall =  0.6164383561643836\n",
      "Round:  3 , recall =  0.7333333333333333\n",
      "Round:  4 , recall =  0.6153846153846154\n",
      "Round:  5 , recall =  0.575\n",
      "mean recall:  0.6184790221704963\n",
      "\n",
      "Best c:  10.0\n"
     ]
    }
   ],
   "source": [
    "# 上面观测到用下采样训练出来的逻辑回归分类器，运用到所有样本上并不理想，FN高达9159，而FP只有9，被误杀的太多了\n",
    "\n",
    "# 我们是否能猜测，因为下采样在逻辑回归交叉验证，得初的正则化系数不适用于所有样本直接训练出来的？\n",
    "# 这次我们来试试直接用所有样本来进行交叉验证\n",
    "best_c_all = Kfold_scores(X_train,y_train)"
   ]
  },
  {
   "cell_type": "code",
   "execution_count": 15,
   "metadata": {
    "scrolled": true
   },
   "outputs": [
    {
     "name": "stdout",
     "output_type": "stream",
     "text": [
      "recall metric in ALL test dataset:  0.6190476190476191\n"
     ]
    },
    {
     "data": {
      "image/png": "[encoded data removed]",
      "text/plain": [
       "<Figure size 432x288 with 2 Axes>"
      ]
     },
     "metadata": {},
     "output_type": "display_data"
    }
   ],
   "source": [
    "# 上面我们计算出全样本直接训练的C=10，现在把C=10应用到全样本里直接训练和预测\n",
    "lr = LogisticRegression(C = best_c_all, penalty = 'l1', solver='liblinear')\n",
    "lr.fit(X_train, y_train.values.ravel())\n",
    "\n",
    "# 使用全样本中的30%测试集预测\n",
    "y_pred2 = lr.predict(X_test.values)\n",
    "\n",
    "# 混淆矩阵\n",
    "cnf_mat = confusion_matrix(y_test, y_pred2)\n",
    "np.set_printoptions(precision=2)\n",
    "\n",
    "print('recall metric in ALL test dataset: ', cnf_mat[1,1] / (cnf_mat[1,0] + cnf_mat[1,1]))\n",
    "\n",
    "class_names = [0, 1]\n",
    "plt.figure()\n",
    "plot_confusion_mat(cnf_mat, classes=class_names, title='Confusion Matrix')\n",
    "plt.show()\n",
    "\n",
    "# 全样本训练，全样本预测"
   ]
  },
  {
   "cell_type": "code",
   "execution_count": 16,
   "metadata": {},
   "outputs": [
    {
     "name": "stdout",
     "output_type": "stream",
     "text": [
      "recall metric in ALL test dataset:  1.0\n",
      "recall metric in ALL test dataset:  1.0\n",
      "recall metric in ALL test dataset:  1.0\n",
      "recall metric in ALL test dataset:  0.9795918367346939\n",
      "recall metric in ALL test dataset:  0.9319727891156463\n",
      "recall metric in ALL test dataset:  0.8639455782312925\n",
      "recall metric in ALL test dataset:  0.8231292517006803\n",
      "recall metric in ALL test dataset:  0.7482993197278912\n",
      "recall metric in ALL test dataset:  0.5986394557823129\n"
     ]
    },
    {
     "data": {
      "image/png": "[encoded data removed]",
      "text/plain": [
       "<Figure size 720x720 with 18 Axes>"
      ]
     },
     "metadata": {},
     "output_type": "display_data"
    }
   ],
   "source": [
    "# 在上面我们可以看到recall下降了许多\n",
    "\n",
    "# 让我们想想，是不是可以通过改变sigmoid分类的划分阈值呢？\n",
    "# 比如原来默认大于0.5划分为1，小与0.5划分为0，这次让我们看看通过更改阈值会有什么影响\n",
    "\n",
    "# 这里改回下采样最佳正则化系数\n",
    "lr = LogisticRegression(C = best_c, penalty = 'l1', solver='liblinear')\n",
    "\n",
    "# 使用下采样的样本\n",
    "lr.fit(X_train_undersample, y_train_undersample.values.ravel())\n",
    "\n",
    "# 这里我们用的不是predict而是predict_proba，它表示不直接预测出分类，而是每种分类的概率，每行加起来等于1\n",
    "y_pred_undersample_proba = lr.predict_proba(X_test_undersample.values)\n",
    "\n",
    "# 设置阈值\n",
    "thresholds = [0.1,0.2,0.3,0.4,0.5,0.6,0.7,0.8,0.9]\n",
    "\n",
    "plt.figure(figsize=(10,10))\n",
    "j = 1\n",
    "\n",
    "for i in thresholds:\n",
    "    # 可能性超过设定阈值的，返回的是true, false，但不是判断真假，而是把【预测1的可能性>阈值】，就判为1\n",
    "    # 比如说原来是【预测1>0.5】才判为1，现在是只要大于该阈值就通通判为1\n",
    "    y_test_predictions_high_recall = y_pred_undersample_proba[:, 1] > i\n",
    "    plt.subplot(3, 3, j)\n",
    "    j += 1\n",
    "    \n",
    "    cnf_mat = confusion_matrix(y_test_undersample, y_test_predictions_high_recall)\n",
    "    np.set_printoptions(precision=2)\n",
    "    \n",
    "    print('recall metric in ALL test dataset: ', cnf_mat[1,1] / (cnf_mat[1,0] + cnf_mat[1,1]))\n",
    "\n",
    "    class_names = [0, 1]\n",
    "    plot_confusion_mat(cnf_mat, classes=class_names, title='Threshold >= %s'%i)\n"
   ]
  },
  {
   "cell_type": "code",
   "execution_count": 17,
   "metadata": {},
   "outputs": [
    {
     "name": "stdout",
     "output_type": "stream",
     "text": [
      "Index(['Time', 'V1', 'V2', 'V3', 'V4', 'V5', 'V6', 'V7', 'V8', 'V9', 'V10',\n",
      "       'V11', 'V12', 'V13', 'V14', 'V15', 'V16', 'V17', 'V18', 'V19', 'V20',\n",
      "       'V21', 'V22', 'V23', 'V24', 'V25', 'V26', 'V27', 'V28', 'Amount'],\n",
      "      dtype='object')\n"
     ]
    }
   ],
   "source": [
    "# 在上面我们可以看到根据阈值不同产生的变化，也能从混淆矩阵图中找到最佳的阈值应该是0.5\n",
    "\n",
    "# 下面我们改用上采样进行训练\n",
    "from imblearn.over_sampling import SMOTE\n",
    "# 读取文件\n",
    "credit_cards = pd.read_csv(\"creditcard.csv\")\n",
    "\n",
    "# 读取所有列\n",
    "columns = credit_cards.columns\n",
    "\n",
    "# 删除标签所在的最后一列，把特征列index[title]赋值到features_columns\n",
    "features_columns = columns.delete(len(columns) - 1)\n",
    "print(features_columns)\n",
    "\n",
    "# 把特征列从原数据集选出来，返回一个DataFrame：features\n",
    "features = credit_cards[features_columns]\n",
    "\n",
    "# 把'Class'列赋值到一个DataFrame：labels\n",
    "labels = credit_cards['Class']"
   ]
  },
  {
   "cell_type": "code",
   "execution_count": 18,
   "metadata": {},
   "outputs": [
    {
     "name": "stdout",
     "output_type": "stream",
     "text": [
      "train count:  227845 test count:  56962\n",
      "total count:  284807\n"
     ]
    }
   ],
   "source": [
    "# 训练集80%测试集20%\n",
    "features_train, features_test, labels_train, labels_test = train_test_split(features, labels, test_size=0.2, random_state=0)\n",
    "print(\"train count: \", labels_train.shape[0], \"test count: \", labels_test.shape[0])\n",
    "print(\"total count: \", labels.shape[0])"
   ]
  },
  {
   "cell_type": "code",
   "execution_count": 19,
   "metadata": {},
   "outputs": [
    {
     "name": "stdout",
     "output_type": "stream",
     "text": [
      "Class 0 before SMOTE:  227454\n",
      "Class 0 after SMOTE:  227454\n",
      "Class 1 before SMOTE:  391\n",
      "Class 1 after SMOTE:  227454\n"
     ]
    }
   ],
   "source": [
    "# 之前我们得知负样本特别少只有几百个，所有这次我们把负样本进行过采样\n",
    "\n",
    "# SMOTE过采样：默认把类别不均衡数据，按照1:1生成，使得样本平衡\n",
    "oversampler = SMOTE(random_state=0)\n",
    "\n",
    "# 这里我们把原数据集中80%部分的训练集进行过采样，让那20%的测试集保持原样\n",
    "os_features, os_labels = oversampler.fit_sample(features_train, labels_train)\n",
    "\n",
    "print(\"Class 0 before SMOTE: \", len(labels_train[labels_train == 0]))\n",
    "print(\"Class 0 after SMOTE: \", len(os_labels[os_labels == 0]))\n",
    "print(\"Class 1 before SMOTE: \", len(labels_train[labels_train == 1]))\n",
    "print(\"Class 1 after SMOTE: \", len(os_labels[os_labels == 1]))"
   ]
  },
  {
   "cell_type": "code",
   "execution_count": 20,
   "metadata": {},
   "outputs": [
    {
     "name": "stdout",
     "output_type": "stream",
     "text": [
      "round c:  0.01\n",
      "\n",
      "Round:  1 , recall =  0.8903225806451613\n",
      "Round:  2 , recall =  0.8947368421052632\n",
      "Round:  3 , recall =  0.9688834790306518\n",
      "Round:  4 , recall =  0.957529594091074\n",
      "Round:  5 , recall =  0.958386915949484\n",
      "mean recall:  0.9339718823643268\n",
      "round c:  0.1\n",
      "\n",
      "Round:  1 , recall =  0.8903225806451613\n",
      "Round:  2 , recall =  0.8947368421052632\n",
      "Round:  3 , recall =  0.9704326657076463\n",
      "Round:  4 , recall =  0.9599696639957793\n",
      "Round:  5 , recall =  0.9605851771248942\n",
      "mean recall:  0.9352093859157489\n",
      "round c:  1\n",
      "\n",
      "Round:  1 , recall =  0.8903225806451613\n",
      "Round:  2 , recall =  0.8947368421052632\n",
      "Round:  3 , recall =  0.9705211906606175\n",
      "Round:  4 , recall =  0.9603543597014761\n",
      "Round:  5 , recall =  0.9608709510776975\n",
      "mean recall:  0.9353611848380432\n",
      "round c:  10\n",
      "\n",
      "Round:  1 , recall =  0.8903225806451613\n",
      "Round:  2 , recall =  0.8947368421052632\n",
      "Round:  3 , recall =  0.9704105344694036\n",
      "Round:  4 , recall =  0.9601345335839351\n",
      "Round:  5 , recall =  0.960958881524714\n",
      "mean recall:  0.9353126744656954\n",
      "round c:  100\n",
      "\n",
      "Round:  1 , recall =  0.8903225806451613\n",
      "Round:  2 , recall =  0.8947368421052632\n",
      "Round:  3 , recall =  0.9704547969458891\n",
      "Round:  4 , recall =  0.9603763423132302\n",
      "Round:  5 , recall =  0.9608599597718205\n",
      "mean recall:  0.9353501043562729\n",
      "\n",
      "Best c:  1.0\n"
     ]
    }
   ],
   "source": [
    "os_features = pd.DataFrame(os_features)\n",
    "os_labels = pd.DataFrame(os_labels)\n",
    "\n",
    "# 用1:1的过采样样本，去训练逻辑回归里面最好的正则化系数\n",
    "best_c = Kfold_scores(os_features, os_labels)"
   ]
  },
  {
   "cell_type": "code",
   "execution_count": 21,
   "metadata": {},
   "outputs": [
    {
     "name": "stdout",
     "output_type": "stream",
     "text": [
      "recall metric in 20% test dataset:  0.9108910891089109\n"
     ]
    },
    {
     "data": {
      "image/png": "[encoded data removed]",
      "text/plain": [
       "<Figure size 432x288 with 2 Axes>"
      ]
     },
     "metadata": {},
     "output_type": "display_data"
    }
   ],
   "source": [
    "# 过采样中得到的最佳正则化系数\n",
    "lr = LogisticRegression(C = best_c, penalty = 'l1', solver='liblinear')\n",
    "\n",
    "# 运用到过采样样本里去训练逻辑回归分类器\n",
    "lr.fit(os_features, os_labels.values.ravel())\n",
    "\n",
    "# 用该过采样分类器去原训练集进行测试\n",
    "y_pred = lr.predict(features_test.values)\n",
    "\n",
    "# 计算混淆矩阵\n",
    "cnf_mat = confusion_matrix(labels_test, y_pred)\n",
    "np.set_printoptions(precision=2)\n",
    "\n",
    "print('recall metric in 20% test dataset: ', cnf_mat[1,1] / (cnf_mat[1,0] + cnf_mat[1,1]))\n",
    "\n",
    "class_names = [0, 1]\n",
    "plt.figure()\n",
    "plot_confusion_mat(cnf_mat, classes=class_names, title='Threshold >= %s'%i)\n",
    "plt.show()\n",
    "\n",
    "# 过采样训练，全样本预测"
   ]
  },
  {
   "cell_type": "markdown",
   "metadata": {
    "collapsed": true
   },
   "source": [
    "在这章练习里，我们学习了在逻辑回归方法里，下采样和过采样对数据的预测和影响，通过不断调参和训练，我们能从中找到最适合分析该数据集的方法。"
   ]
  }
 ],
 "metadata": {
  "kernelspec": {
   "display_name": "Python 3",
   "language": "python",
   "name": "python3"
  },
  "language_info": {
   "codemirror_mode": {
    "name": "ipython",
    "version": 3
   },
   "file_extension": ".py",
   "mimetype": "text/x-python",
   "name": "python",
   "nbconvert_exporter": "python",
   "pygments_lexer": "ipython3",
   "version": "3.6.2"
  }
 },
 "nbformat": 4,
 "nbformat_minor": 2
}
